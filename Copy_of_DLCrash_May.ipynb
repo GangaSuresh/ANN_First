{
  "nbformat": 4,
  "nbformat_minor": 0,
  "metadata": {
    "colab": {
      "name": "Copy of DLCrash May.ipynb",
      "provenance": [],
      "authorship_tag": "ABX9TyMf6nH/2AERJSduNlRVk96d",
      "include_colab_link": true
    },
    "kernelspec": {
      "name": "python3",
      "display_name": "Python 3"
    },
    "language_info": {
      "name": "python"
    }
  },
  "cells": [
    {
      "cell_type": "markdown",
      "metadata": {
        "id": "view-in-github",
        "colab_type": "text"
      },
      "source": [
        "<a href=\"https://colab.research.google.com/github/GangaSuresh/ANN_First/blob/main/Copy_of_DLCrash_May.ipynb\" target=\"_parent\"><img src=\"https://colab.research.google.com/assets/colab-badge.svg\" alt=\"Open In Colab\"/></a>"
      ]
    },
    {
      "cell_type": "code",
      "metadata": {
        "id": "6xbnHVqJxYci"
      },
      "source": [
        "import numpy as np\n",
        "import matplotlib.pyplot as plt\n",
        "import pandas as pd\n"
      ],
      "execution_count": null,
      "outputs": []
    },
    {
      "cell_type": "code",
      "metadata": {
        "id": "1V8BuhhFFbwV"
      },
      "source": [
        "# Importing the dataset\n",
        "dataset = pd.read_csv('/Churn_Modelling.csv')\n",
        "#features independent variables that have impact\n",
        "X = dataset.iloc[:, 3:12].values\n",
        "#dependent variable, if customer leaves the bank or not\n",
        "y = dataset.iloc[:, -1].values\n",
        "#print(X)\n",
        "#print(y)"
      ],
      "execution_count": null,
      "outputs": []
    },
    {
      "cell_type": "code",
      "metadata": {
        "colab": {
          "base_uri": "https://localhost:8080/"
        },
        "id": "L1JwMGNrUkrs",
        "outputId": "d6861e21-fa42-4212-b647-1f34dc6f15df"
      },
      "source": [
        "#encoding categorical data\n",
        "#change country and gender\n",
        "from sklearn.preprocessing import LabelEncoder, OneHotEncoder\n",
        "from sklearn.compose import ColumnTransformer\n",
        "#country\n",
        "labelencoder_X_1=LabelEncoder()\n",
        "X[:,1]=labelencoder_X_1.fit_transform(X[:,1])\n",
        "#gender\n",
        "labelencoder_X_2=LabelEncoder()\n",
        "X[:,2]=labelencoder_X_2.fit_transform(X[:,2])\n",
        "#to binary only country so we get in 0s and 1s not 0 1 and 2, no need for gender as already 0 and 1\n",
        "#onehotencoder=OneHotEncoder(categorical_features=[1])\n",
        "# Country column\n",
        "ct = ColumnTransformer([(\"Country\", OneHotEncoder(), [1])], remainder = 'passthrough')\n",
        "#X = ct.fit_transform(X)\n",
        "X=ct.fit_transform(X)\n",
        "print(X[0:10,:])\n",
        "#to remove dummy variable trap remove 1st col\n",
        "X=X[:,1:]\n",
        "print(X[0:10,:])"
      ],
      "execution_count": null,
      "outputs": [
        {
          "output_type": "stream",
          "text": [
            "[[1.0 0.0 0.0 619 0 42 2 0.0 1 1 1]\n",
            " [0.0 0.0 1.0 608 0 41 1 83807.86 1 0 1]\n",
            " [1.0 0.0 0.0 502 0 42 8 159660.8 3 1 0]\n",
            " [1.0 0.0 0.0 699 0 39 1 0.0 2 0 0]\n",
            " [0.0 0.0 1.0 850 0 43 2 125510.82 1 1 1]\n",
            " [0.0 0.0 1.0 645 1 44 8 113755.78 2 1 0]\n",
            " [1.0 0.0 0.0 822 1 50 7 0.0 2 1 1]\n",
            " [0.0 1.0 0.0 376 0 29 4 115046.74 4 1 0]\n",
            " [1.0 0.0 0.0 501 1 44 4 142051.07 2 0 1]\n",
            " [1.0 0.0 0.0 684 1 27 2 134603.88 1 1 1]]\n",
            "[[0.0 0.0 619 0 42 2 0.0 1 1 1]\n",
            " [0.0 1.0 608 0 41 1 83807.86 1 0 1]\n",
            " [0.0 0.0 502 0 42 8 159660.8 3 1 0]\n",
            " [0.0 0.0 699 0 39 1 0.0 2 0 0]\n",
            " [0.0 1.0 850 0 43 2 125510.82 1 1 1]\n",
            " [0.0 1.0 645 1 44 8 113755.78 2 1 0]\n",
            " [0.0 0.0 822 1 50 7 0.0 2 1 1]\n",
            " [1.0 0.0 376 0 29 4 115046.74 4 1 0]\n",
            " [0.0 0.0 501 1 44 4 142051.07 2 0 1]\n",
            " [0.0 0.0 684 1 27 2 134603.88 1 1 1]]\n"
          ],
          "name": "stdout"
        }
      ]
    },
    {
      "cell_type": "code",
      "metadata": {
        "id": "UjHIMcDxFb4w"
      },
      "source": [
        "# Splitting the dataset into the Training set and Test set\n",
        "from sklearn.model_selection import train_test_split\n",
        "X_train, X_test, y_train, y_test = train_test_split(X, y, test_size = 0.2, random_state = 0)\n",
        "\n"
      ],
      "execution_count": null,
      "outputs": []
    },
    {
      "cell_type": "code",
      "metadata": {
        "id": "j5MwxFPdFb9s"
      },
      "source": [
        "# Feature Scaling\n",
        "from sklearn.preprocessing import StandardScaler\n",
        "sc = StandardScaler()\n",
        "X_train = sc.fit_transform(X_train)\n",
        "X_test = sc.transform(X_test)"
      ],
      "execution_count": null,
      "outputs": []
    },
    {
      "cell_type": "code",
      "metadata": {
        "colab": {
          "base_uri": "https://localhost:8080/"
        },
        "id": "qbofvJLeldlU",
        "outputId": "e1bc0209-0d5d-4f1f-b3d3-4a905513d985"
      },
      "source": [
        "print(X_train[1,:])\n",
        "print(X_test.size)"
      ],
      "execution_count": null,
      "outputs": [
        {
          "output_type": "stream",
          "text": [
            "[ 1.75486502 -0.57369368 -2.30455945  0.91601335  0.30102557 -1.37744033\n",
            " -0.00631193 -0.92159124  0.64259497  0.9687384 ]\n",
            "20000\n"
          ],
          "name": "stdout"
        }
      ]
    },
    {
      "cell_type": "markdown",
      "metadata": {
        "id": "o5aT8nBYcCrb"
      },
      "source": [
        "***Done with preprocessing, start with ANN***\n"
      ]
    },
    {
      "cell_type": "code",
      "metadata": {
        "id": "4HMJ-t0hb-Mi"
      },
      "source": [
        "#import keras and other packages\n",
        "import keras\n",
        "from keras.models import Sequential\n",
        "from keras.layers import Dense"
      ],
      "execution_count": null,
      "outputs": []
    },
    {
      "cell_type": "code",
      "metadata": {
        "colab": {
          "base_uri": "https://localhost:8080/"
        },
        "id": "DxPMvutOb-Vq",
        "outputId": "d4455955-79ed-4980-e751-254074f55605"
      },
      "source": [
        "#initializing the ANN\n",
        "classifier = Sequential() #NN model the classifier , make object\n",
        "#input layer number of nodes is number of independent variables here 11\n",
        "#dense module will take take of step1 ie assigning random weights close to 0\n",
        "#rectifier function for hidden layers and sigmoid for output layer as we wnt the probability yes or no\n",
        "\n",
        "#add input layer and first hidden layer, not adding io layer more like adding hidden which gets from io layer\n",
        "#number of nodes in hidden layer no strict rule, based on experiment usually avg of nodes input and output layer(11+1)/2=6\n",
        "\n",
        "#init is uniform to uniformly increase weights\n",
        "classifier.add(Dense(units=6,kernel_initializer='uniform',activation='relu',input_dim=10))\n",
        "#2nd hidden layer, no need of input nodes\n",
        "classifier.add(Dense(units=6,kernel_initializer='uniform',activation='relu'))\n",
        "\n",
        "#output layer, only 1 node and sigmoid activation function\n",
        "#Note- if last layer has more classes or categories yes, no ,maybe after one hot encoding it will have 3 outputs so \n",
        "# 3 nodes in end , also multi class use softmax function\n",
        "classifier.add(Dense(units=1,kernel_initializer='uniform',activation='sigmoid'))\n",
        "\n",
        "#compile the ann, add gradient descent\n",
        "#optimizer - to find best weights which algo like stochastic gradient descent here called adam\n",
        "#loss funtion- difference btw actual value and predicted value to minimize, if many categories use categorical_crossentropy\n",
        "#metrics - list of metrix to evaluate the model here accuracy\n",
        "classifier.compile(optimizer='adam',loss='binary_crossentropy',metrics=['accuracy'])\n",
        "\n",
        "#connect or fit ANN to training set\n",
        "#batch size to see after how many rows should the weights change, and epochs the total number whole dataset\n",
        "classifier.fit(X_train,y_train,batch_size=10,epochs=100)\n",
        "\n"
      ],
      "execution_count": null,
      "outputs": [
        {
          "output_type": "stream",
          "text": [
            "Epoch 1/100\n",
            "800/800 [==============================] - 1s 948us/step - loss: 0.5754 - accuracy: 0.7854\n",
            "Epoch 2/100\n",
            "800/800 [==============================] - 1s 986us/step - loss: 0.4378 - accuracy: 0.7865\n",
            "Epoch 3/100\n",
            "800/800 [==============================] - 1s 962us/step - loss: 0.4121 - accuracy: 0.8066\n",
            "Epoch 4/100\n",
            "800/800 [==============================] - 1s 969us/step - loss: 0.4156 - accuracy: 0.8238\n",
            "Epoch 5/100\n",
            "800/800 [==============================] - 1s 932us/step - loss: 0.4135 - accuracy: 0.8329\n",
            "Epoch 6/100\n",
            "800/800 [==============================] - 1s 946us/step - loss: 0.4156 - accuracy: 0.8280\n",
            "Epoch 7/100\n",
            "800/800 [==============================] - 1s 991us/step - loss: 0.4103 - accuracy: 0.8366\n",
            "Epoch 8/100\n",
            "800/800 [==============================] - 1s 988us/step - loss: 0.4099 - accuracy: 0.8296\n",
            "Epoch 9/100\n",
            "800/800 [==============================] - 1s 971us/step - loss: 0.3960 - accuracy: 0.8396\n",
            "Epoch 10/100\n",
            "800/800 [==============================] - 1s 979us/step - loss: 0.4086 - accuracy: 0.8340\n",
            "Epoch 11/100\n",
            "800/800 [==============================] - 1s 969us/step - loss: 0.3991 - accuracy: 0.8373\n",
            "Epoch 12/100\n",
            "800/800 [==============================] - 1s 935us/step - loss: 0.4048 - accuracy: 0.8300\n",
            "Epoch 13/100\n",
            "800/800 [==============================] - 1s 952us/step - loss: 0.4047 - accuracy: 0.8271\n",
            "Epoch 14/100\n",
            "800/800 [==============================] - 1s 933us/step - loss: 0.3901 - accuracy: 0.8400\n",
            "Epoch 15/100\n",
            "800/800 [==============================] - 1s 957us/step - loss: 0.4036 - accuracy: 0.8320\n",
            "Epoch 16/100\n",
            "800/800 [==============================] - 1s 940us/step - loss: 0.4010 - accuracy: 0.8322\n",
            "Epoch 17/100\n",
            "800/800 [==============================] - 1s 982us/step - loss: 0.3979 - accuracy: 0.8331\n",
            "Epoch 18/100\n",
            "800/800 [==============================] - 1s 981us/step - loss: 0.3910 - accuracy: 0.8393\n",
            "Epoch 19/100\n",
            "800/800 [==============================] - 1s 969us/step - loss: 0.3843 - accuracy: 0.8397\n",
            "Epoch 20/100\n",
            "800/800 [==============================] - 1s 914us/step - loss: 0.3997 - accuracy: 0.8335\n",
            "Epoch 21/100\n",
            "800/800 [==============================] - 1s 944us/step - loss: 0.4010 - accuracy: 0.8300\n",
            "Epoch 22/100\n",
            "800/800 [==============================] - 1s 959us/step - loss: 0.3929 - accuracy: 0.8343\n",
            "Epoch 23/100\n",
            "800/800 [==============================] - 1s 969us/step - loss: 0.3997 - accuracy: 0.8303\n",
            "Epoch 24/100\n",
            "800/800 [==============================] - 1s 955us/step - loss: 0.4011 - accuracy: 0.8325\n",
            "Epoch 25/100\n",
            "800/800 [==============================] - 1s 933us/step - loss: 0.3980 - accuracy: 0.8360\n",
            "Epoch 26/100\n",
            "800/800 [==============================] - 1s 960us/step - loss: 0.3961 - accuracy: 0.8353\n",
            "Epoch 27/100\n",
            "800/800 [==============================] - 1s 976us/step - loss: 0.3927 - accuracy: 0.8384\n",
            "Epoch 28/100\n",
            "800/800 [==============================] - 1s 971us/step - loss: 0.3870 - accuracy: 0.8434\n",
            "Epoch 29/100\n",
            "800/800 [==============================] - 1s 971us/step - loss: 0.3964 - accuracy: 0.8320\n",
            "Epoch 30/100\n",
            "800/800 [==============================] - 1s 934us/step - loss: 0.3961 - accuracy: 0.8308\n",
            "Epoch 31/100\n",
            "800/800 [==============================] - 1s 977us/step - loss: 0.3936 - accuracy: 0.8351\n",
            "Epoch 32/100\n",
            "800/800 [==============================] - 1s 969us/step - loss: 0.3913 - accuracy: 0.8406\n",
            "Epoch 33/100\n",
            "800/800 [==============================] - 1s 964us/step - loss: 0.3895 - accuracy: 0.8351\n",
            "Epoch 34/100\n",
            "800/800 [==============================] - 1s 965us/step - loss: 0.3921 - accuracy: 0.8354\n",
            "Epoch 35/100\n",
            "800/800 [==============================] - 1s 932us/step - loss: 0.3896 - accuracy: 0.8392\n",
            "Epoch 36/100\n",
            "800/800 [==============================] - 1s 960us/step - loss: 0.3899 - accuracy: 0.8347\n",
            "Epoch 37/100\n",
            "800/800 [==============================] - 1s 923us/step - loss: 0.4041 - accuracy: 0.8280\n",
            "Epoch 38/100\n",
            "800/800 [==============================] - 1s 978us/step - loss: 0.3858 - accuracy: 0.8410\n",
            "Epoch 39/100\n",
            "800/800 [==============================] - 1s 937us/step - loss: 0.3947 - accuracy: 0.8377\n",
            "Epoch 40/100\n",
            "800/800 [==============================] - 1s 943us/step - loss: 0.3900 - accuracy: 0.8376\n",
            "Epoch 41/100\n",
            "800/800 [==============================] - 1s 944us/step - loss: 0.3964 - accuracy: 0.8375\n",
            "Epoch 42/100\n",
            "800/800 [==============================] - 1s 923us/step - loss: 0.4044 - accuracy: 0.8320\n",
            "Epoch 43/100\n",
            "800/800 [==============================] - 1s 909us/step - loss: 0.3820 - accuracy: 0.8403\n",
            "Epoch 44/100\n",
            "800/800 [==============================] - 1s 969us/step - loss: 0.4017 - accuracy: 0.8320\n",
            "Epoch 45/100\n",
            "800/800 [==============================] - 1s 969us/step - loss: 0.3820 - accuracy: 0.8414\n",
            "Epoch 46/100\n",
            "800/800 [==============================] - 1s 984us/step - loss: 0.3940 - accuracy: 0.8342\n",
            "Epoch 47/100\n",
            "800/800 [==============================] - 1s 956us/step - loss: 0.3895 - accuracy: 0.8379\n",
            "Epoch 48/100\n",
            "800/800 [==============================] - 1s 940us/step - loss: 0.3920 - accuracy: 0.8322\n",
            "Epoch 49/100\n",
            "800/800 [==============================] - 1s 938us/step - loss: 0.3890 - accuracy: 0.8354\n",
            "Epoch 50/100\n",
            "800/800 [==============================] - 1s 948us/step - loss: 0.3808 - accuracy: 0.8376\n",
            "Epoch 51/100\n",
            "800/800 [==============================] - 1s 975us/step - loss: 0.3969 - accuracy: 0.8267\n",
            "Epoch 52/100\n",
            "800/800 [==============================] - 1s 969us/step - loss: 0.3698 - accuracy: 0.8409\n",
            "Epoch 53/100\n",
            "800/800 [==============================] - 1s 967us/step - loss: 0.3843 - accuracy: 0.8354\n",
            "Epoch 54/100\n",
            "800/800 [==============================] - 1s 1ms/step - loss: 0.3776 - accuracy: 0.8317\n",
            "Epoch 55/100\n",
            "800/800 [==============================] - 1s 980us/step - loss: 0.3756 - accuracy: 0.8365\n",
            "Epoch 56/100\n",
            "800/800 [==============================] - 1s 984us/step - loss: 0.3696 - accuracy: 0.8439\n",
            "Epoch 57/100\n",
            "800/800 [==============================] - 1s 929us/step - loss: 0.3700 - accuracy: 0.8467\n",
            "Epoch 58/100\n",
            "800/800 [==============================] - 1s 936us/step - loss: 0.3617 - accuracy: 0.8471\n",
            "Epoch 59/100\n",
            "800/800 [==============================] - 1s 934us/step - loss: 0.3535 - accuracy: 0.8565\n",
            "Epoch 60/100\n",
            "800/800 [==============================] - 1s 951us/step - loss: 0.3465 - accuracy: 0.8620\n",
            "Epoch 61/100\n",
            "800/800 [==============================] - 1s 986us/step - loss: 0.3408 - accuracy: 0.8590\n",
            "Epoch 62/100\n",
            "800/800 [==============================] - 1s 987us/step - loss: 0.3529 - accuracy: 0.8497\n",
            "Epoch 63/100\n",
            "800/800 [==============================] - 1s 1ms/step - loss: 0.3389 - accuracy: 0.8610\n",
            "Epoch 64/100\n",
            "800/800 [==============================] - 1s 952us/step - loss: 0.3427 - accuracy: 0.8589\n",
            "Epoch 65/100\n",
            "800/800 [==============================] - 1s 991us/step - loss: 0.3333 - accuracy: 0.8654\n",
            "Epoch 66/100\n",
            "800/800 [==============================] - 1s 959us/step - loss: 0.3325 - accuracy: 0.8620\n",
            "Epoch 67/100\n",
            "800/800 [==============================] - 1s 982us/step - loss: 0.3458 - accuracy: 0.8565\n",
            "Epoch 68/100\n",
            "800/800 [==============================] - 1s 1ms/step - loss: 0.3368 - accuracy: 0.8569\n",
            "Epoch 69/100\n",
            "800/800 [==============================] - 1s 964us/step - loss: 0.3424 - accuracy: 0.8605\n",
            "Epoch 70/100\n",
            "800/800 [==============================] - 1s 986us/step - loss: 0.3374 - accuracy: 0.8611\n",
            "Epoch 71/100\n",
            "800/800 [==============================] - 1s 988us/step - loss: 0.3469 - accuracy: 0.8606\n",
            "Epoch 72/100\n",
            "800/800 [==============================] - 1s 1ms/step - loss: 0.3449 - accuracy: 0.8582\n",
            "Epoch 73/100\n",
            "800/800 [==============================] - 1s 992us/step - loss: 0.3454 - accuracy: 0.8570\n",
            "Epoch 74/100\n",
            "800/800 [==============================] - 1s 973us/step - loss: 0.3259 - accuracy: 0.8646\n",
            "Epoch 75/100\n",
            "800/800 [==============================] - 1s 972us/step - loss: 0.3403 - accuracy: 0.8599\n",
            "Epoch 76/100\n",
            "800/800 [==============================] - 1s 947us/step - loss: 0.3490 - accuracy: 0.8583\n",
            "Epoch 77/100\n",
            "800/800 [==============================] - 1s 976us/step - loss: 0.3423 - accuracy: 0.8609\n",
            "Epoch 78/100\n",
            "800/800 [==============================] - 1s 959us/step - loss: 0.3416 - accuracy: 0.8565\n",
            "Epoch 79/100\n",
            "800/800 [==============================] - 1s 1ms/step - loss: 0.3358 - accuracy: 0.8589\n",
            "Epoch 80/100\n",
            "800/800 [==============================] - 1s 964us/step - loss: 0.3458 - accuracy: 0.8587\n",
            "Epoch 81/100\n",
            "800/800 [==============================] - 1s 964us/step - loss: 0.3332 - accuracy: 0.8610\n",
            "Epoch 82/100\n",
            "800/800 [==============================] - 1s 988us/step - loss: 0.3430 - accuracy: 0.8597\n",
            "Epoch 83/100\n",
            "800/800 [==============================] - 1s 1ms/step - loss: 0.3321 - accuracy: 0.8628\n",
            "Epoch 84/100\n",
            "800/800 [==============================] - 1s 1ms/step - loss: 0.3421 - accuracy: 0.8603\n",
            "Epoch 85/100\n",
            "800/800 [==============================] - 1s 1ms/step - loss: 0.3364 - accuracy: 0.8636\n",
            "Epoch 86/100\n",
            "800/800 [==============================] - 1s 968us/step - loss: 0.3456 - accuracy: 0.8550\n",
            "Epoch 87/100\n",
            "800/800 [==============================] - 1s 941us/step - loss: 0.3519 - accuracy: 0.8616\n",
            "Epoch 88/100\n",
            "800/800 [==============================] - 1s 999us/step - loss: 0.3243 - accuracy: 0.8712\n",
            "Epoch 89/100\n",
            "800/800 [==============================] - 1s 960us/step - loss: 0.3281 - accuracy: 0.8673\n",
            "Epoch 90/100\n",
            "800/800 [==============================] - 1s 922us/step - loss: 0.3318 - accuracy: 0.8608\n",
            "Epoch 91/100\n",
            "800/800 [==============================] - 1s 986us/step - loss: 0.3265 - accuracy: 0.8651\n",
            "Epoch 92/100\n",
            "800/800 [==============================] - 1s 997us/step - loss: 0.3325 - accuracy: 0.8620\n",
            "Epoch 93/100\n",
            "800/800 [==============================] - 1s 971us/step - loss: 0.3391 - accuracy: 0.8607\n",
            "Epoch 94/100\n",
            "800/800 [==============================] - 1s 989us/step - loss: 0.3365 - accuracy: 0.8633\n",
            "Epoch 95/100\n",
            "800/800 [==============================] - 1s 1ms/step - loss: 0.3339 - accuracy: 0.8621\n",
            "Epoch 96/100\n",
            "800/800 [==============================] - 1s 1ms/step - loss: 0.3341 - accuracy: 0.8612\n",
            "Epoch 97/100\n",
            "800/800 [==============================] - 1s 970us/step - loss: 0.3277 - accuracy: 0.8703\n",
            "Epoch 98/100\n",
            "800/800 [==============================] - 1s 1ms/step - loss: 0.3363 - accuracy: 0.8609\n",
            "Epoch 99/100\n",
            "800/800 [==============================] - 1s 962us/step - loss: 0.3381 - accuracy: 0.8572\n",
            "Epoch 100/100\n",
            "800/800 [==============================] - 1s 971us/step - loss: 0.3276 - accuracy: 0.8653\n"
          ],
          "name": "stdout"
        },
        {
          "output_type": "execute_result",
          "data": {
            "text/plain": [
              "<tensorflow.python.keras.callbacks.History at 0x7ff3dc6ff6d0>"
            ]
          },
          "metadata": {
            "tags": []
          },
          "execution_count": 45
        }
      ]
    },
    {
      "cell_type": "code",
      "metadata": {
        "id": "5GImPoDcFcAZ",
        "colab": {
          "base_uri": "https://localhost:8080/"
        },
        "outputId": "6805b724-afde-484b-d6f7-6d5f8e32beda"
      },
      "source": [
        "# Predicting the Test set results probability customers might leave the bank\n",
        "y_pred = classifier.predict(X_test)\n",
        "\n",
        "#but we need true or flase if customers leave bank or not\n",
        "#set a threshold here 0.5. if more then true else false\n",
        "y_pred=(y_pred>0.5)\n",
        "print(y_pred[0:10])\n"
      ],
      "execution_count": null,
      "outputs": [
        {
          "output_type": "stream",
          "text": [
            "[[False]\n",
            " [False]\n",
            " [False]\n",
            " [False]\n",
            " [False]\n",
            " [ True]\n",
            " [False]\n",
            " [False]\n",
            " [False]\n",
            " [ True]]\n"
          ],
          "name": "stdout"
        }
      ]
    },
    {
      "cell_type": "code",
      "metadata": {
        "id": "SrHkIiMOFcC-",
        "colab": {
          "base_uri": "https://localhost:8080/"
        },
        "outputId": "7a215fa3-a6b5-4e40-b3ac-6764ba9670a6"
      },
      "source": [
        "# Making the Confusion Matrix\n",
        "#(1,1)+(2,2)= 1496+225 correct predictions and\n",
        "#(1,2)+(2,1)= 180+99 incorrect predictions\n",
        "from sklearn.metrics import confusion_matrix\n",
        "cm = confusion_matrix(y_test, y_pred)\n",
        "print(cm)"
      ],
      "execution_count": null,
      "outputs": [
        {
          "output_type": "stream",
          "text": [
            "[[1496   99]\n",
            " [ 180  225]]\n"
          ],
          "name": "stdout"
        }
      ]
    },
    {
      "cell_type": "code",
      "metadata": {
        "id": "HpGn8CQIFcGq",
        "colab": {
          "base_uri": "https://localhost:8080/"
        },
        "outputId": "4fb69347-7919-4d39-ae6c-e7cb3606096f"
      },
      "source": [
        "#accuraccy \n",
        "print((1496+225)/2000)"
      ],
      "execution_count": null,
      "outputs": [
        {
          "output_type": "stream",
          "text": [
            "0.8605\n"
          ],
          "name": "stdout"
        }
      ]
    }
  ]
}